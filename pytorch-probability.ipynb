{
 "cells": [
  {
   "cell_type": "code",
   "execution_count": 107,
   "metadata": {},
   "outputs": [],
   "source": [
    "import torch\n",
    "from torch.distributions.multivariate_normal import MultivariateNormal\n",
    "from torch.distributions.normal import Normal\n",
    "from torch.distributions.independent import Independent\n",
    "\n",
    "import matplotlib.pyplot as plt\n"
   ]
  },
  {
   "cell_type": "code",
   "execution_count": 116,
   "metadata": {},
   "outputs": [
    {
     "data": {
      "text/plain": [
       "tensor([1., 1., 1.])"
      ]
     },
     "execution_count": 116,
     "metadata": {},
     "output_type": "execute_result"
    }
   ],
   "source": [
    "loc = torch.zeros(3)\n",
    "scale = torch.ones([3])\n",
    "scale"
   ]
  },
  {
   "cell_type": "code",
   "execution_count": 117,
   "metadata": {},
   "outputs": [
    {
     "data": {
      "text/plain": [
       "tensor([-0.9389, -0.9389, -0.9389])"
      ]
     },
     "execution_count": 117,
     "metadata": {},
     "output_type": "execute_result"
    }
   ],
   "source": [
    "normal = Normal(loc=loc, scale=scale)\n",
    "[normal.batch_shape, normal.event_shape]\n",
    "normal.sample([3])\n",
    "normal.log_prob(torch.tensor([0.2, 0.2, 0.2]))"
   ]
  },
  {
   "cell_type": "code",
   "execution_count": 119,
   "metadata": {},
   "outputs": [
    {
     "data": {
      "text/plain": [
       "tensor([ 0.3563,  0.9383, -0.3383])"
      ]
     },
     "execution_count": 119,
     "metadata": {},
     "output_type": "execute_result"
    }
   ],
   "source": [
    "mvn = MultivariateNormal(loc, scale_tril=torch.diag(scale))\n",
    "[mvn.batch_shape, mvn.event_shape]\n",
    "mvn.sample()\n"
   ]
  },
  {
   "cell_type": "code",
   "execution_count": 247,
   "metadata": {},
   "outputs": [
    {
     "data": {
      "text/plain": [
       "tensor([[[1., 0.],\n",
       "         [0., 1.]],\n",
       "\n",
       "        [[1., 0.],\n",
       "         [0., 1.]],\n",
       "\n",
       "        [[1., 0.],\n",
       "         [0., 1.]]])"
      ]
     },
     "execution_count": 247,
     "metadata": {},
     "output_type": "execute_result"
    }
   ],
   "source": [
    "loc2 = torch.zeros([3,2])\n",
    "#scale = torch.tensor([[1,2,0],[2,1,2],[0,2,1]])\n",
    "#scale2 = torch.tensor([[[1,0],[0,2]],[[2,0],[0,1]],[[2,0],[0,2]]])\n",
    "scale2 = torch.eye(2).repeat(3,1,1)\n",
    "#torch.diag(scale[0])\n",
    "scale2\n"
   ]
  },
  {
   "cell_type": "code",
   "execution_count": 253,
   "metadata": {},
   "outputs": [
    {
     "name": "stdout",
     "output_type": "stream",
     "text": [
      "[mvn2.batch_shape, mvn2.event_shape]:  [torch.Size([3]), torch.Size([2])]\n",
      "mvn2:  MultivariateNormal(loc: torch.Size([3, 2]), scale_tril: torch.Size([3, 2, 2]))\n"
     ]
    }
   ],
   "source": [
    "plt_sample_batch = mvn2 = MultivariateNormal(loc=loc2, scale_tril=scale2)\n",
    "print(\"[mvn2.batch_shape, mvn2.event_shape]: \",[mvn2.batch_shape, mvn2.event_shape])\n",
    "print(\"mvn2: \", mvn2)\n"
   ]
  },
  {
   "cell_type": "code",
   "execution_count": 258,
   "metadata": {},
   "outputs": [
    {
     "data": {
      "text/plain": [
       "tensor([[[-2.1498,  0.3624],\n",
       "         [-0.2904, -0.0073],\n",
       "         [-2.6202, -0.7812]],\n",
       "\n",
       "        [[-0.6314, -0.0069],\n",
       "         [-0.3064,  0.4551],\n",
       "         [ 0.8204,  1.0403]]])"
      ]
     },
     "execution_count": 258,
     "metadata": {},
     "output_type": "execute_result"
    }
   ],
   "source": [
    "mvn2.sample([2])"
   ]
  },
  {
   "cell_type": "code",
   "execution_count": 257,
   "metadata": {},
   "outputs": [
    {
     "ename": "TypeError",
     "evalue": "'MultivariateNormal' object is not subscriptable",
     "output_type": "error",
     "traceback": [
      "\u001b[0;31m---------------------------------------------------------------------------\u001b[0m",
      "\u001b[0;31mTypeError\u001b[0m                                 Traceback (most recent call last)",
      "Cell \u001b[0;32mIn[257], line 4\u001b[0m\n\u001b[1;32m      2\u001b[0m titles \u001b[38;5;241m=\u001b[39m [\u001b[38;5;124m'\u001b[39m\u001b[38;5;124mcov_diag=[1,2]\u001b[39m\u001b[38;5;124m'\u001b[39m,\u001b[38;5;124m'\u001b[39m\u001b[38;5;124mcov_diag=[2,1]\u001b[39m\u001b[38;5;124m'\u001b[39m,\u001b[38;5;124m'\u001b[39m\u001b[38;5;124mcov_diag=[2,2]\u001b[39m\u001b[38;5;124m'\u001b[39m]\n\u001b[1;32m      3\u001b[0m \u001b[38;5;28;01mfor\u001b[39;00m i, (ax, title) \u001b[38;5;129;01min\u001b[39;00m \u001b[38;5;28menumerate\u001b[39m(\u001b[38;5;28mzip\u001b[39m(axs, titles)):\n\u001b[0;32m----> 4\u001b[0m     samples \u001b[38;5;241m=\u001b[39m \u001b[43mplt_sample_batch\u001b[49m\u001b[43m[\u001b[49m\u001b[43m:\u001b[49m\u001b[43m,\u001b[49m\u001b[43mi\u001b[49m\u001b[43m,\u001b[49m\u001b[43m:\u001b[49m\u001b[43m]\u001b[49m \u001b[38;5;66;03m#take the ith batch [samples x event_shape in TF.probability NOT PyTorch!!\u001b[39;00m\n\u001b[1;32m      5\u001b[0m     ax\u001b[38;5;241m.\u001b[39mscatter(samples[:,\u001b[38;5;241m0\u001b[39m],samples[:,\u001b[38;5;241m1\u001b[39m],marker\u001b[38;5;241m=\u001b[39m\u001b[38;5;124m'\u001b[39m\u001b[38;5;124m.\u001b[39m\u001b[38;5;124m'\u001b[39m, alpha\u001b[38;5;241m=\u001b[39m\u001b[38;5;241m0.05\u001b[39m)\n\u001b[1;32m      6\u001b[0m     ax\u001b[38;5;241m.\u001b[39mset_title(title)\n",
      "\u001b[0;31mTypeError\u001b[0m: 'MultivariateNormal' object is not subscriptable"
     ]
    },
    {
     "data": {
      "image/png": "[encoded data removed]",
      "text/plain": [
       "<Figure size 1000x300 with 3 Axes>"
      ]
     },
     "metadata": {},
     "output_type": "display_data"
    }
   ],
   "source": [
    "fig, axs = (plt.subplots(1,3, sharex=True, sharey=True, figsize=(10,3)))\n",
    "titles = ['cov_diag=[1,2]','cov_diag=[2,1]','cov_diag=[2,2]']\n",
    "for i, (ax, title) in enumerate(zip(axs, titles)):\n",
    "    samples = plt_sample_batch[:,i,:] #take the ith batch [samples x event_shape in TF.probability NOT PyTorch!!\n",
    "    ax.scatter(samples[:,0],samples[:,1],marker='.', alpha=0.05)\n",
    "    ax.set_title(title)\n",
    "plt.show()"
   ]
  },
  {
   "cell_type": "code",
   "execution_count": 53,
   "metadata": {},
   "outputs": [
    {
     "data": {
      "text/plain": [
       "tensor(-2.8168)"
      ]
     },
     "execution_count": 53,
     "metadata": {},
     "output_type": "execute_result"
    }
   ],
   "source": [
    "diagn = Independent(normal, 1)\n",
    "[diagn.batch_shape, diagn.event_shape]\n",
    "diagn.log_prob(torch.tensor([0.2,0.2,0.2]))"
   ]
  },
  {
   "cell_type": "code",
   "execution_count": null,
   "metadata": {},
   "outputs": [],
   "source": []
  }
 ],
 "metadata": {
  "kernelspec": {
   "display_name": "Python 3 (ipykernel)",
   "language": "python",
   "name": "python3"
  },
  "language_info": {
   "codemirror_mode": {
    "name": "ipython",
    "version": 3
   },
   "file_extension": ".py",
   "mimetype": "text/x-python",
   "name": "python",
   "nbconvert_exporter": "python",
   "pygments_lexer": "ipython3",
   "version": "3.8.10"
  }
 },
 "nbformat": 4,
 "nbformat_minor": 2
}
