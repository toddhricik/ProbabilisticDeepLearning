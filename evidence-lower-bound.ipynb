{
 "cells": [
  {
   "cell_type": "markdown",
   "metadata": {},
   "source": [
    "<H1>Evidence Lower Bound (ELBO)</H1>"
   ]
  },
  {
   "cell_type": "markdown",
   "metadata": {},
   "source": [
    "Let $X$ (training observation) and $Z$ (latent space representation) be random variables  jointly distributed by distribution $p_{\\theta}$. Given a sample $X=x$ from some training data set and any distribution $q_{\\phi}$, the Evidence Lower Bound (ELBO) $L(\\phi;\\theta;x)$ is defined as:<br>"
   ]
  },
  {
   "cell_type": "markdown",
   "metadata": {},
   "source": [
    "$L(\\phi;\\theta;x)=\\mathbb{E}_{z\\sim\\ q_{\\phi}(\\bullet|x)}\\left[log\\frac{p_{\\theta}(x,z)}{q_{\\phi}(z|x)}\\right]$<br>"
   ]
  },
  {
   "cell_type": "markdown",
   "metadata": {},
   "source": [
    "$L(\\phi;\\theta;x)=\\mathbb{E}_{z\\sim\\ q_{\\phi}(\\bullet|x)}\\left[log\\ p_{\\theta}(x,z)\\right]+H\\left[q_{\\phi}(z|x)\\right]$<br>"
   ]
  },
  {
   "cell_type": "markdown",
   "metadata": {},
   "source": [
    "$L(\\phi;\\theta;x)=log\\ p_{\\theta}(x)-D_{KL}(q_{\\phi}(z|x)||p_{\\theta}(z|x))$<br>"
   ]
  },
  {
   "cell_type": "markdown",
   "metadata": {},
   "source": [
    "because<br>\n",
    "$D_{KL}(p||q)=\\int\\ p(x)\\ log\\ \\frac{p(x)}{q(x)}dx$<br>"
   ]
  },
  {
   "cell_type": "markdown",
   "metadata": {},
   "source": [
    "<H2>Derivation of ELBO</H2>"
   ]
  },
  {
   "cell_type": "markdown",
   "metadata": {},
   "source": [
    "Variational inference theory has proven the equivalence between minimizing the Kullback-Leiber divergence (KL-divergence) and maximizing the log-likelihood. [ref here]<br>\n",
    "$\\mathbb{E}_{x\\sim\\ q_{\\th}(x)}\\left[log\\ p_{\\theta}(x)\\right]=-H(p^{*})-D_{KL}(p^{*}(x)||p_{\\theta}(x))$<br>"
   ]
  },
  {
   "cell_type": "markdown",
   "metadata": {},
   "source": [
    "where $H(p^{*})=-\\mathbb{E}_{x\\sim\\ p^{*}}\\left[log\\ p^{*}(x)\\right]$ is the entropy of the true distribution.<br>"
   ]
  },
  {
   "cell_type": "markdown",
   "metadata": {},
   "source": [
    "therefore<br>\n",
    "$\\mathbb{E}_{x\\sim\\ p^{*}(x)}\\left[log\\ p_{\\theta}(x)\\right]=\\mathbb{E}_{x\\sim\\ p^{*}}\\left[log\\ p^{*}(x)\\right]-D_{KL}(p^{*}(x)||p_{\\theta}(x))$<br>\n",
    "$\\mathbb{E}_{x\\sim\\ p^{*}(x)}\\left[log\\ p_{\\theta}(x)\\right]=\\mathbb{E}_{x\\sim\\ p^{*}}\\left[log\\ p^{*}(x)\\right]-\\int_{x\\in\\ X}p^{*}(x)log\\frac{p^{*}(x)}{q(x)}$<br>"
   ]
  },
  {
   "cell_type": "markdown",
   "metadata": {},
   "source": [
    "$\\mathbb{E}_{x\\sim\\ p^{*}(x)}\\left[log\\ p_{\\theta}(x)\\right]=\\mathbb{E}_{x\\sim\\ p^{*}}\\left[log\\ p^{*}(x)\\right]-\\mathbb{E}_{p(x)}\\left[log\\frac{p(x)}{q(x)}\\right]$<br>"
   ]
  },
  {
   "cell_type": "markdown",
   "metadata": {},
   "source": [
    "THIS SECTION NEEDS WORK"
   ]
  },
  {
   "cell_type": "markdown",
   "metadata": {},
   "source": []
  }
 ],
 "metadata": {
  "language_info": {
   "name": "python"
  }
 },
 "nbformat": 4,
 "nbformat_minor": 2
}
