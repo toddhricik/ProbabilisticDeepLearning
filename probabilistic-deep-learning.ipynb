{
 "cells": [
  {
   "cell_type": "markdown",
   "metadata": {},
   "source": [
    "<H1>Probabilistic Deep Learning</H1>\n",
    "<H2>Generative Models</H2>\n"
   ]
  },
  {
   "cell_type": "markdown",
   "metadata": {
    "vscode": {
     "languageId": "latex"
    }
   },
   "source": [
    "$\\text{Generative models provide a mechanism to generate samples from a given distribution.}$<br>\n",
    "\n"
   ]
  },
  {
   "cell_type": "markdown",
   "metadata": {},
   "source": [
    "<H2>Deep Probabilistic Generative Models</H2>\n",
    "<H2>Latent Variables</H2>\n"
   ]
  },
  {
   "cell_type": "markdown",
   "metadata": {},
   "source": [
    "<H2>Variational Inference</H2>\n",
    "<H2>Variational Auto Encoder</H2>\n"
   ]
  },
  {
   "cell_type": "markdown",
   "metadata": {},
   "source": [
    "<H2>Diffusion Models</H2>"
   ]
  },
  {
   "cell_type": "markdown",
   "metadata": {},
   "source": [
    "(!)In contrast to variational autoencoders where latent variables are directly sampled from a predefined distribution, diffusion models apply progressively more noise to the data during a sequence of transformation steps."
   ]
  },
  {
   "cell_type": "markdown",
   "metadata": {},
   "source": [
    "A diffusion model applies a forward process of $T\\in(0,\\inf)$ sequential transformations, $\\xrightarrow{\\text{forward}}$, to a random variable $x_{0}$ "
   ]
  },
  {
   "cell_type": "markdown",
   "metadata": {},
   "source": [
    "$x_{0}\\overset{forward}{\\underset{reverse}\\rightleftarrows} x_{1:T}$<br>\n",
    "$\\text{where}$<br>\n",
    "$x_{1:T}= x_{0}\\rightarrow x_{1}\\rightarrow\\dots\\rightarrow x_{T}$<br>\n",
    "$\\text{and}$<br>\n",
    "$x_{t+1}= x_{t-1}$<br> \n"
   ]
  },
  {
   "cell_type": "markdown",
   "metadata": {},
   "source": [
    "Each latent variable $x_{t}\\in x_{1:t}$ consists of the sum of noise and the value of $x_{t-1}$.<br>\n",
    "The joint distribution $q(x_{1:T}|x_{0})$ of latent variables $x_{1:T}$ given the original manifest variable $x_{0}$ is memoryless.<br>\n",
    "$q(x_{t:T}|x_{0})=\\prod_{t=1}^{T}{q(x_{t}|x_{t-1})}\\quad\\quad\\quad\\quad\\text{(Markov Property)}$<br>"
   ]
  },
  {
   "cell_type": "markdown",
   "metadata": {},
   "source": [
    "Let $q(x_{t}|x_{t-1})\\sim\\mathcal{N}(x_{t};\\sqrt{1-\\beta}x_{t-1},\\beta_{t}I)\\quad\\quad\\quad\\quad\\quad\\quad\\quad$<br>\n",
    "$\\text{where:}\\quad\\quad\\quad\\beta_{t}\\text{is the variance at time t}$<br>\n",
    "$\\quad\\quad\\quad\\quad\\quad\\quad \\beta_{1}\\lt\\beta_{2}\\lt\\dots\\beta_{T}$<br>\n",
    "$\\quad\\quad\\quad\\quad\\quad\\quad \\beta_{t}\\in(0, 1)$<br>"
   ]
  },
  {
   "cell_type": "markdown",
   "metadata": {},
   "source": [
    "Axiom: $q(x_{T}|x_{0})\\rightarrow\\mathcal{N}(0,I)$ as $T\\rightarrow\\inf$.<br>"
   ]
  },
  {
   "cell_type": "markdown",
   "metadata": {},
   "source": [
    "Soft Constraint: $B_{t}\\lt\\lt1$<br>"
   ]
  }
 ],
 "metadata": {
  "kernelspec": {
   "display_name": "Python 3 (ipykernel)",
   "language": "python",
   "name": "python3"
  }
 },
 "nbformat": 4,
 "nbformat_minor": 2
}
